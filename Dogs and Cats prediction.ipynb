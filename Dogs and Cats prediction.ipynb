{
 "cells": [
  {
   "cell_type": "code",
   "execution_count": 1,
   "id": "af7c4efc",
   "metadata": {},
   "outputs": [
    {
     "name": "stdout",
     "output_type": "stream",
     "text": [
      "Requirement already satisfied: tensorflow in c:\\users\\tusha\\anaconda3\\lib\\site-packages (2.10.0)\n",
      "Requirement already satisfied: typing-extensions>=3.6.6 in c:\\users\\tusha\\anaconda3\\lib\\site-packages (from tensorflow) (4.3.0)\n",
      "Requirement already satisfied: keras<2.11,>=2.10.0 in c:\\users\\tusha\\anaconda3\\lib\\site-packages (from tensorflow) (2.10.0)\n",
      "Requirement already satisfied: tensorboard<2.11,>=2.10 in c:\\users\\tusha\\anaconda3\\lib\\site-packages (from tensorflow) (2.10.1)\n",
      "Requirement already satisfied: google-pasta>=0.1.1 in c:\\users\\tusha\\anaconda3\\lib\\site-packages (from tensorflow) (0.2.0)\n",
      "Requirement already satisfied: gast<=0.4.0,>=0.2.1 in c:\\users\\tusha\\anaconda3\\lib\\site-packages (from tensorflow) (0.4.0)\n",
      "Requirement already satisfied: astunparse>=1.6.0 in c:\\users\\tusha\\anaconda3\\lib\\site-packages (from tensorflow) (1.6.3)\n",
      "Requirement already satisfied: numpy>=1.20 in c:\\users\\tusha\\anaconda3\\lib\\site-packages (from tensorflow) (1.21.5)\n",
      "Requirement already satisfied: opt-einsum>=2.3.2 in c:\\users\\tusha\\anaconda3\\lib\\site-packages (from tensorflow) (3.3.0)\n",
      "Requirement already satisfied: h5py>=2.9.0 in c:\\users\\tusha\\anaconda3\\lib\\site-packages (from tensorflow) (3.7.0)\n",
      "Requirement already satisfied: grpcio<2.0,>=1.24.3 in c:\\users\\tusha\\anaconda3\\lib\\site-packages (from tensorflow) (1.50.0)\n",
      "Requirement already satisfied: flatbuffers>=2.0 in c:\\users\\tusha\\anaconda3\\lib\\site-packages (from tensorflow) (22.10.26)\n",
      "Requirement already satisfied: six>=1.12.0 in c:\\users\\tusha\\anaconda3\\lib\\site-packages (from tensorflow) (1.16.0)\n",
      "Requirement already satisfied: libclang>=13.0.0 in c:\\users\\tusha\\anaconda3\\lib\\site-packages (from tensorflow) (14.0.6)\n",
      "Requirement already satisfied: absl-py>=1.0.0 in c:\\users\\tusha\\anaconda3\\lib\\site-packages (from tensorflow) (1.3.0)\n",
      "Requirement already satisfied: keras-preprocessing>=1.1.1 in c:\\users\\tusha\\anaconda3\\lib\\site-packages (from tensorflow) (1.1.2)\n",
      "Requirement already satisfied: termcolor>=1.1.0 in c:\\users\\tusha\\anaconda3\\lib\\site-packages (from tensorflow) (2.1.0)\n",
      "Requirement already satisfied: tensorflow-io-gcs-filesystem>=0.23.1 in c:\\users\\tusha\\anaconda3\\lib\\site-packages (from tensorflow) (0.27.0)\n",
      "Requirement already satisfied: tensorflow-estimator<2.11,>=2.10.0 in c:\\users\\tusha\\anaconda3\\lib\\site-packages (from tensorflow) (2.10.0)\n",
      "Requirement already satisfied: protobuf<3.20,>=3.9.2 in c:\\users\\tusha\\anaconda3\\lib\\site-packages (from tensorflow) (3.19.6)\n",
      "Requirement already satisfied: wrapt>=1.11.0 in c:\\users\\tusha\\anaconda3\\lib\\site-packages (from tensorflow) (1.14.1)\n",
      "Requirement already satisfied: packaging in c:\\users\\tusha\\anaconda3\\lib\\site-packages (from tensorflow) (21.3)\n",
      "Requirement already satisfied: setuptools in c:\\users\\tusha\\anaconda3\\lib\\site-packages (from tensorflow) (63.4.1)\n",
      "Requirement already satisfied: wheel<1.0,>=0.23.0 in c:\\users\\tusha\\anaconda3\\lib\\site-packages (from astunparse>=1.6.0->tensorflow) (0.37.1)\n",
      "Requirement already satisfied: tensorboard-plugin-wit>=1.6.0 in c:\\users\\tusha\\anaconda3\\lib\\site-packages (from tensorboard<2.11,>=2.10->tensorflow) (1.8.1)\n",
      "Requirement already satisfied: google-auth-oauthlib<0.5,>=0.4.1 in c:\\users\\tusha\\anaconda3\\lib\\site-packages (from tensorboard<2.11,>=2.10->tensorflow) (0.4.6)\n",
      "Requirement already satisfied: tensorboard-data-server<0.7.0,>=0.6.0 in c:\\users\\tusha\\anaconda3\\lib\\site-packages (from tensorboard<2.11,>=2.10->tensorflow) (0.6.1)\n",
      "Requirement already satisfied: google-auth<3,>=1.6.3 in c:\\users\\tusha\\anaconda3\\lib\\site-packages (from tensorboard<2.11,>=2.10->tensorflow) (2.14.1)\n",
      "Requirement already satisfied: werkzeug>=1.0.1 in c:\\users\\tusha\\anaconda3\\lib\\site-packages (from tensorboard<2.11,>=2.10->tensorflow) (2.0.3)\n",
      "Requirement already satisfied: requests<3,>=2.21.0 in c:\\users\\tusha\\anaconda3\\lib\\site-packages (from tensorboard<2.11,>=2.10->tensorflow) (2.28.1)\n",
      "Requirement already satisfied: markdown>=2.6.8 in c:\\users\\tusha\\anaconda3\\lib\\site-packages (from tensorboard<2.11,>=2.10->tensorflow) (3.3.4)\n",
      "Requirement already satisfied: pyparsing!=3.0.5,>=2.0.2 in c:\\users\\tusha\\anaconda3\\lib\\site-packages (from packaging->tensorflow) (3.0.9)\n",
      "Requirement already satisfied: rsa<5,>=3.1.4 in c:\\users\\tusha\\anaconda3\\lib\\site-packages (from google-auth<3,>=1.6.3->tensorboard<2.11,>=2.10->tensorflow) (4.9)\n",
      "Requirement already satisfied: cachetools<6.0,>=2.0.0 in c:\\users\\tusha\\anaconda3\\lib\\site-packages (from google-auth<3,>=1.6.3->tensorboard<2.11,>=2.10->tensorflow) (5.2.0)\n",
      "Requirement already satisfied: pyasn1-modules>=0.2.1 in c:\\users\\tusha\\anaconda3\\lib\\site-packages (from google-auth<3,>=1.6.3->tensorboard<2.11,>=2.10->tensorflow) (0.2.8)\n",
      "Requirement already satisfied: requests-oauthlib>=0.7.0 in c:\\users\\tusha\\anaconda3\\lib\\site-packages (from google-auth-oauthlib<0.5,>=0.4.1->tensorboard<2.11,>=2.10->tensorflow) (1.3.1)\n",
      "Requirement already satisfied: certifi>=2017.4.17 in c:\\users\\tusha\\anaconda3\\lib\\site-packages (from requests<3,>=2.21.0->tensorboard<2.11,>=2.10->tensorflow) (2022.9.14)\n",
      "Requirement already satisfied: urllib3<1.27,>=1.21.1 in c:\\users\\tusha\\anaconda3\\lib\\site-packages (from requests<3,>=2.21.0->tensorboard<2.11,>=2.10->tensorflow) (1.26.11)\n",
      "Requirement already satisfied: idna<4,>=2.5 in c:\\users\\tusha\\anaconda3\\lib\\site-packages (from requests<3,>=2.21.0->tensorboard<2.11,>=2.10->tensorflow) (3.3)\n",
      "Requirement already satisfied: charset-normalizer<3,>=2 in c:\\users\\tusha\\anaconda3\\lib\\site-packages (from requests<3,>=2.21.0->tensorboard<2.11,>=2.10->tensorflow) (2.0.4)\n",
      "Requirement already satisfied: pyasn1<0.5.0,>=0.4.6 in c:\\users\\tusha\\anaconda3\\lib\\site-packages (from pyasn1-modules>=0.2.1->google-auth<3,>=1.6.3->tensorboard<2.11,>=2.10->tensorflow) (0.4.8)\n",
      "Requirement already satisfied: oauthlib>=3.0.0 in c:\\users\\tusha\\anaconda3\\lib\\site-packages (from requests-oauthlib>=0.7.0->google-auth-oauthlib<0.5,>=0.4.1->tensorboard<2.11,>=2.10->tensorflow) (3.2.2)\n",
      "Note: you may need to restart the kernel to use updated packages.\n"
     ]
    }
   ],
   "source": [
    "pip install tensorflow"
   ]
  },
  {
   "cell_type": "code",
   "execution_count": 2,
   "id": "58921533",
   "metadata": {},
   "outputs": [
    {
     "name": "stdout",
     "output_type": "stream",
     "text": [
      "Requirement already satisfied: keras in c:\\users\\tusha\\anaconda3\\lib\\site-packages (2.10.0)\n",
      "Note: you may need to restart the kernel to use updated packages.\n"
     ]
    }
   ],
   "source": [
    "pip install keras"
   ]
  },
  {
   "cell_type": "code",
   "execution_count": 1,
   "id": "8f09d8e4",
   "metadata": {},
   "outputs": [],
   "source": [
    "import tensorflow as tf\n",
    "from keras.preprocessing.image import ImageDataGenerator"
   ]
  },
  {
   "cell_type": "code",
   "execution_count": 2,
   "id": "2dc29152",
   "metadata": {},
   "outputs": [
    {
     "data": {
      "text/plain": [
       "'2.10.0'"
      ]
     },
     "execution_count": 2,
     "metadata": {},
     "output_type": "execute_result"
    }
   ],
   "source": [
    "tf.__version__"
   ]
  },
  {
   "cell_type": "code",
   "execution_count": 3,
   "id": "acb33274",
   "metadata": {},
   "outputs": [],
   "source": [
    "# Part 1 Data Preprocessing"
   ]
  },
  {
   "cell_type": "code",
   "execution_count": 4,
   "id": "1f047999",
   "metadata": {},
   "outputs": [
    {
     "name": "stdout",
     "output_type": "stream",
     "text": [
      "Found 8000 images belonging to 2 classes.\n"
     ]
    }
   ],
   "source": [
    "train_datagen = ImageDataGenerator(rescale = 1./255,\n",
    "                                   shear_range = 0.2,\n",
    "                                   zoom_range= 0.2,\n",
    "                                   horizontal_flip = True)\n",
    "training_set = train_datagen.flow_from_directory('Dataset/training_set',\n",
    "                                                target_size = (64, 64),\n",
    "                                                batch_size = 32,\n",
    "                                                class_mode = 'binary')"
   ]
  },
  {
   "cell_type": "code",
   "execution_count": 5,
   "id": "df0b6eb7",
   "metadata": {},
   "outputs": [
    {
     "name": "stdout",
     "output_type": "stream",
     "text": [
      "Found 2000 images belonging to 2 classes.\n"
     ]
    }
   ],
   "source": [
    "#Preprocessing the Test set\n",
    "test_datagen = ImageDataGenerator(rescale = 1./255)\n",
    "test_set = test_datagen.flow_from_directory('Dataset/test_set',\n",
    "                                           target_size = (64, 64),\n",
    "                                           batch_size = 32,\n",
    "                                            class_mode = 'binary'\n",
    "                                           )"
   ]
  },
  {
   "cell_type": "code",
   "execution_count": 6,
   "id": "42cb763d",
   "metadata": {},
   "outputs": [
    {
     "data": {
      "text/plain": [
       "'C:\\\\Users\\\\tusha\\\\Downloads\\\\Projects'"
      ]
     },
     "execution_count": 6,
     "metadata": {},
     "output_type": "execute_result"
    }
   ],
   "source": [
    "import os\n",
    "os.getcwd()"
   ]
  },
  {
   "cell_type": "code",
   "execution_count": 7,
   "id": "e9418efd",
   "metadata": {},
   "outputs": [],
   "source": [
    "#part 2 Building the CNN"
   ]
  },
  {
   "cell_type": "code",
   "execution_count": 8,
   "id": "299cc9a2",
   "metadata": {},
   "outputs": [],
   "source": [
    "# step 1 initialising a CNN\n",
    "cnn = tf.keras.models.Sequential()"
   ]
  },
  {
   "cell_type": "code",
   "execution_count": 9,
   "id": "fd7ec66b",
   "metadata": {},
   "outputs": [],
   "source": [
    "cnn.add(tf.keras.layers.Conv2D(filters = 32, kernel_size = 3, activation = 'relu', input_shape = [64, 64, 3]))"
   ]
  },
  {
   "cell_type": "code",
   "execution_count": 10,
   "id": "b90afd33",
   "metadata": {},
   "outputs": [],
   "source": [
    "# step 2 pooling\n",
    "cnn.add(tf.keras.layers.MaxPool2D(pool_size=2, strides = 2))"
   ]
  },
  {
   "cell_type": "code",
   "execution_count": 11,
   "id": "f6c4ef11",
   "metadata": {},
   "outputs": [],
   "source": [
    "### Adding a second convolutional layer"
   ]
  },
  {
   "cell_type": "code",
   "execution_count": 12,
   "id": "f15cf447",
   "metadata": {},
   "outputs": [],
   "source": [
    "cnn.add(tf.keras.layers.Conv2D(filters=32, kernel_size=3, activation='relu'))\n",
    "cnn.add(tf.keras.layers.MaxPool2D(pool_size=2, strides=2))"
   ]
  },
  {
   "cell_type": "code",
   "execution_count": 13,
   "id": "cbe3629c",
   "metadata": {},
   "outputs": [],
   "source": [
    "### step3 Flattening"
   ]
  },
  {
   "cell_type": "code",
   "execution_count": 14,
   "id": "1cf8f870",
   "metadata": {},
   "outputs": [],
   "source": [
    "cnn.add(tf.keras.layers.Flatten())"
   ]
  },
  {
   "cell_type": "code",
   "execution_count": 15,
   "id": "51703c9d",
   "metadata": {},
   "outputs": [],
   "source": [
    "### Step 4 Full connection"
   ]
  },
  {
   "cell_type": "code",
   "execution_count": 16,
   "id": "8b3c55f9",
   "metadata": {},
   "outputs": [],
   "source": [
    "cnn.add(tf.keras.layers.Dense(units = 128, activation = 'relu'))"
   ]
  },
  {
   "cell_type": "code",
   "execution_count": 17,
   "id": "2f76c080",
   "metadata": {},
   "outputs": [],
   "source": [
    "### Step 5 Output layer"
   ]
  },
  {
   "cell_type": "code",
   "execution_count": 18,
   "id": "9ee9b461",
   "metadata": {},
   "outputs": [],
   "source": [
    "cnn.add(tf.keras.layers.Dense(units = 1, activation = 'sigmoid'))"
   ]
  },
  {
   "cell_type": "code",
   "execution_count": 19,
   "id": "ca4546a5",
   "metadata": {},
   "outputs": [],
   "source": [
    "### Part 3 training the CNN"
   ]
  },
  {
   "cell_type": "code",
   "execution_count": 20,
   "id": "01bcbb5a",
   "metadata": {},
   "outputs": [],
   "source": [
    "cnn.compile(optimizer = 'adam', loss = 'binary_crossentropy', metrics = ['accuracy'])"
   ]
  },
  {
   "cell_type": "code",
   "execution_count": 21,
   "id": "b0989c18",
   "metadata": {},
   "outputs": [],
   "source": [
    "### Training the CNN on the Training set and evaluating it on the Test set"
   ]
  },
  {
   "cell_type": "code",
   "execution_count": 22,
   "id": "3eee8332",
   "metadata": {
    "scrolled": false
   },
   "outputs": [
    {
     "name": "stdout",
     "output_type": "stream",
     "text": [
      "Epoch 1/25\n",
      "250/250 [==============================] - 34s 133ms/step - loss: 0.6650 - accuracy: 0.5954 - val_loss: 0.6039 - val_accuracy: 0.6740\n",
      "Epoch 2/25\n",
      "250/250 [==============================] - 34s 135ms/step - loss: 0.6007 - accuracy: 0.6816 - val_loss: 0.5794 - val_accuracy: 0.6995\n",
      "Epoch 3/25\n",
      "250/250 [==============================] - 35s 140ms/step - loss: 0.5675 - accuracy: 0.7013 - val_loss: 0.5172 - val_accuracy: 0.7495\n",
      "Epoch 4/25\n",
      "250/250 [==============================] - 33s 131ms/step - loss: 0.5366 - accuracy: 0.7324 - val_loss: 0.5080 - val_accuracy: 0.7525\n",
      "Epoch 5/25\n",
      "250/250 [==============================] - 32s 128ms/step - loss: 0.5038 - accuracy: 0.7491 - val_loss: 0.5022 - val_accuracy: 0.7630\n",
      "Epoch 6/25\n",
      "250/250 [==============================] - 32s 129ms/step - loss: 0.4872 - accuracy: 0.7645 - val_loss: 0.4890 - val_accuracy: 0.7665\n",
      "Epoch 7/25\n",
      "250/250 [==============================] - 32s 129ms/step - loss: 0.4744 - accuracy: 0.7759 - val_loss: 0.4945 - val_accuracy: 0.7745\n",
      "Epoch 8/25\n",
      "250/250 [==============================] - 32s 129ms/step - loss: 0.4601 - accuracy: 0.7696 - val_loss: 0.4743 - val_accuracy: 0.7795\n",
      "Epoch 9/25\n",
      "250/250 [==============================] - 32s 129ms/step - loss: 0.4510 - accuracy: 0.7853 - val_loss: 0.4824 - val_accuracy: 0.7765\n",
      "Epoch 10/25\n",
      "250/250 [==============================] - 33s 131ms/step - loss: 0.4352 - accuracy: 0.7903 - val_loss: 0.4870 - val_accuracy: 0.7685\n",
      "Epoch 11/25\n",
      "250/250 [==============================] - 33s 131ms/step - loss: 0.4216 - accuracy: 0.8059 - val_loss: 0.4522 - val_accuracy: 0.7895\n",
      "Epoch 12/25\n",
      "250/250 [==============================] - 33s 131ms/step - loss: 0.4092 - accuracy: 0.8111 - val_loss: 0.5041 - val_accuracy: 0.7620\n",
      "Epoch 13/25\n",
      "250/250 [==============================] - 32s 129ms/step - loss: 0.3971 - accuracy: 0.8160 - val_loss: 0.4653 - val_accuracy: 0.7875\n",
      "Epoch 14/25\n",
      "250/250 [==============================] - 32s 129ms/step - loss: 0.3814 - accuracy: 0.8251 - val_loss: 0.4750 - val_accuracy: 0.7905\n",
      "Epoch 15/25\n",
      "250/250 [==============================] - 32s 129ms/step - loss: 0.3686 - accuracy: 0.8357 - val_loss: 0.4483 - val_accuracy: 0.8025\n",
      "Epoch 16/25\n",
      "250/250 [==============================] - 32s 129ms/step - loss: 0.3539 - accuracy: 0.8378 - val_loss: 0.4703 - val_accuracy: 0.7870\n",
      "Epoch 17/25\n",
      "250/250 [==============================] - 33s 132ms/step - loss: 0.3492 - accuracy: 0.8418 - val_loss: 0.4689 - val_accuracy: 0.7930\n",
      "Epoch 18/25\n",
      "250/250 [==============================] - 34s 137ms/step - loss: 0.3293 - accuracy: 0.8539 - val_loss: 0.4826 - val_accuracy: 0.7970\n",
      "Epoch 19/25\n",
      "250/250 [==============================] - 34s 137ms/step - loss: 0.3169 - accuracy: 0.8577 - val_loss: 0.4891 - val_accuracy: 0.7965\n",
      "Epoch 20/25\n",
      "250/250 [==============================] - 34s 135ms/step - loss: 0.3052 - accuracy: 0.8650 - val_loss: 0.4834 - val_accuracy: 0.8015\n",
      "Epoch 21/25\n",
      "250/250 [==============================] - 34s 136ms/step - loss: 0.2908 - accuracy: 0.8720 - val_loss: 0.5140 - val_accuracy: 0.7980\n",
      "Epoch 22/25\n",
      "250/250 [==============================] - 34s 138ms/step - loss: 0.2750 - accuracy: 0.8811 - val_loss: 0.5307 - val_accuracy: 0.7870\n",
      "Epoch 23/25\n",
      "250/250 [==============================] - 34s 136ms/step - loss: 0.2655 - accuracy: 0.8855 - val_loss: 0.5296 - val_accuracy: 0.8005\n",
      "Epoch 24/25\n",
      "250/250 [==============================] - 34s 135ms/step - loss: 0.2608 - accuracy: 0.8878 - val_loss: 0.5441 - val_accuracy: 0.7985\n",
      "Epoch 25/25\n",
      "250/250 [==============================] - 34s 135ms/step - loss: 0.2469 - accuracy: 0.8965 - val_loss: 0.5784 - val_accuracy: 0.7875\n"
     ]
    },
    {
     "data": {
      "text/plain": [
       "<keras.callbacks.History at 0x2221aa5d070>"
      ]
     },
     "execution_count": 22,
     "metadata": {},
     "output_type": "execute_result"
    }
   ],
   "source": [
    "cnn.fit(x = training_set, validation_data = test_set, epochs = 25)"
   ]
  },
  {
   "cell_type": "code",
   "execution_count": null,
   "id": "c97f8399",
   "metadata": {},
   "outputs": [],
   "source": [
    "### Part - 4 making a single prediction"
   ]
  },
  {
   "cell_type": "code",
   "execution_count": 52,
   "id": "526e2486",
   "metadata": {
    "scrolled": true
   },
   "outputs": [
    {
     "name": "stdout",
     "output_type": "stream",
     "text": [
      "1/1 [==============================] - 0s 17ms/step\n"
     ]
    }
   ],
   "source": [
    "import numpy as np\n",
    "from keras.preprocessing import image\n",
    "\n",
    "test_image = tf.keras.utils.load_img('Dataset/single_prediction/karan.jpg', target_size = (64, 64))\n",
    "test_image = tf.keras.utils.img_to_array(test_image)\n",
    "test_image = np.expand_dims(test_image, axis = 0)\n",
    "result = cnn.predict(test_image)\n",
    "training_set.class_indices\n",
    "if result[0][0] == 1:\n",
    "    prediction = 'dog'\n",
    "elif result[0][0] == 0:\n",
    "     prediction = 'cat'\n",
    "else:\n",
    "     prediction = 'Human'\n",
    "    "
   ]
  },
  {
   "cell_type": "code",
   "execution_count": 53,
   "id": "ca59824e",
   "metadata": {},
   "outputs": [
    {
     "name": "stdout",
     "output_type": "stream",
     "text": [
      "dog\n"
     ]
    }
   ],
   "source": [
    "print(prediction)"
   ]
  },
  {
   "cell_type": "code",
   "execution_count": 54,
   "id": "02929f50",
   "metadata": {},
   "outputs": [
    {
     "name": "stdout",
     "output_type": "stream",
     "text": [
      "[[1.]]\n"
     ]
    }
   ],
   "source": [
    "print(result)"
   ]
  },
  {
   "cell_type": "code",
   "execution_count": null,
   "id": "9016e5ec",
   "metadata": {},
   "outputs": [],
   "source": []
  },
  {
   "cell_type": "code",
   "execution_count": null,
   "id": "b97ce63b",
   "metadata": {},
   "outputs": [],
   "source": []
  }
 ],
 "metadata": {
  "kernelspec": {
   "display_name": "Python 3 (ipykernel)",
   "language": "python",
   "name": "python3"
  },
  "language_info": {
   "codemirror_mode": {
    "name": "ipython",
    "version": 3
   },
   "file_extension": ".py",
   "mimetype": "text/x-python",
   "name": "python",
   "nbconvert_exporter": "python",
   "pygments_lexer": "ipython3",
   "version": "3.9.13"
  }
 },
 "nbformat": 4,
 "nbformat_minor": 5
}
